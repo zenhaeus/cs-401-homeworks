{
 "cells": [
  {
   "cell_type": "markdown",
   "metadata": {},
   "source": [
    "# Table of Contents\n",
    " <p><div class=\"lev1\"><a href=\"#Task-1.-Compiling-Ebola-Data\"><span class=\"toc-item-num\">Task 1.&nbsp;&nbsp;</span>Compiling Ebola Data</a></div>\n",
    " <div class=\"lev1\"><a href=\"#Task-2.-RNA-Sequences\"><span class=\"toc-item-num\">Task 2.&nbsp;&nbsp;</span>RNA Sequences</a></div>\n",
    " <div class=\"lev1\"><a href=\"#Task-3.-Class-War-in-Titanic\"><span class=\"toc-item-num\">Task 3.&nbsp;&nbsp;</span>Class War in Titanic</a></div></p>"
   ]
  },
  {
   "cell_type": "code",
   "execution_count": null,
   "metadata": {
    "collapsed": true
   },
   "outputs": [],
   "source": [
    "DATA_FOLDER = '' # Use the data folder provided in Tutorial 02 - Intro to Pandas."
   ]
  },
  {
   "cell_type": "markdown",
   "metadata": {},
   "source": [
    "## Task 1. Compiling Ebola Data\n",
    "\n",
    "The `DATA_FOLDER/ebola` folder contains summarized reports of Ebola cases from three countries (Guinea, Liberia and Sierra Leone) during the recent outbreak of the disease in West Africa. For each country, there are daily reports that contain various information about the outbreak in several cities in each country.\n",
    "\n",
    "Use pandas to import these data files into a single `Dataframe`.\n",
    "Using this `DataFrame`, calculate for *each country*, the *daily average per month* of *new cases* and *deaths*.\n",
    "Make sure you handle all the different expressions for *new cases* and *deaths* that are used in the reports."
   ]
  },
  {
   "cell_type": "code",
   "execution_count": 2,
   "metadata": {},
   "outputs": [
    {
     "name": "stdout",
     "output_type": "stream",
     "text": [
      "\n",
      "24,24,24,24,24,24,24,24,24,24,24,24,16,24,24,24,24,24,24,21,24,24,\n",
      "18,18,18,18,16,18,16,16,13,18,18,16,18,18,18,18,14,17,18,16,17,18,18,14,18,19,15,18,15,13,18,14,18,17,16,14,18,18,14,15,18,18,18,14,16,14,18,18,18,18,17,18,18,18,18,14,14,18,14,18,14,14,14,18,18,18,18,18,17,17,15,18,18,16,18,18,18,18,14,18,18,18,14,18,18,16,18,17,14,14,18,18,17,14,18,18,18,18,18,14,\n",
      "19,17,17,17,18,20,17,17,20,17,17,17,17,18,18,17,17,17,17,17,21,18,17,20,21,17,18,17,17,17,17,17,17,18,17,21,17,17,17,20,21,18,18,17,17,21,17,18,18,17,18,18,17,19,17,18,20,20,17,18,17,17,19,18,18,17,17,17,17,17,17,17,17,17,18,17,20,17,21,17,17,17,18,17,17,21,18,17,20,21,21,17,18,18,20,17,17,18,17,18,18,17,17,"
     ]
    }
   ],
   "source": [
    "# Write your answer here\n",
    "countries = dict.fromkeys(['guinea', 'liberia', 'sl'])\n",
    "\n",
    "for country in countries:\n",
    "    FULL_PATH = DATA_FOLDER + \"ebola/\" + country + \"_data/\"\n",
    "    print(\"\")\n",
    "    for csv_file in os.listdir(FULL_PATH):\n",
    "        if countries[country] is None:\n",
    "            countries[country] = pd.read_csv(FULL_PATH + csv_file, sep=',')\n",
    "            print(countries[country].shape[1], end=\",\")\n",
    "        else:\n",
    "            nextFrame = pd.read_csv(FULL_PATH + csv_file, sep=',')\n",
    "            print(nextFrame.shape[1], end=\",\")\n",
    "            countries[country] = pd.concat([countries[country], nextFrame], axis=0)\n",
    "\n",
    "            \n",
    "            "
   ]
  },
  {
   "cell_type": "markdown",
   "metadata": {},
   "source": [
    "We only consider confirmed cases as legitimate cases."
   ]
  },
  {
   "cell_type": "code",
   "execution_count": 38,
   "metadata": {
    "scrolled": false
   },
   "outputs": [],
   "source": [
    "dt_info = {\n",
    "    'guinea' : {\n",
    "        'case' : 'New cases of confirmed',\n",
    "        'deaths' : [\n",
    "            'New deaths registered',\n",
    "            'New deaths registered today'\n",
    "        ],\n",
    "        'var' : 'Description',\n",
    "        'exclude' : ['Totals', 'Description'],\n",
    "        'date' : 'Date',\n",
    "        'dateformat' : '%Y-%m-%d'\n",
    "    },\n",
    "    'liberia' : {\n",
    "        'case' : 'New case/s (confirmed)',\n",
    "        'deaths' : [\n",
    "            'Newly reported deaths'\n",
    "        ],\n",
    "        'var' : 'Variable',\n",
    "        'exclude' : ['National', 'Variable'],\n",
    "        'date' : 'Date',\n",
    "        'dateformat' : '%m/%d/%Y'\n",
    "    },\n",
    "    'sl' : {\n",
    "        'case' : 'new_confirmed',\n",
    "        'deaths' : [\n",
    "            'etc_new_deaths'\n",
    "        ],\n",
    "        'var' : 'variable',\n",
    "        'exclude' : ['National', 'variable'],\n",
    "        'date' : 'date',\n",
    "        'dateformat' : '%Y-%m-%d'\n",
    "    }\n",
    "}\n",
    "\"\"\"\n",
    " TODO:\n",
    "    - investigate unnamed\n",
    "    - check that variable columns in original data does not cause trouble\n",
    "    - \n",
    "\"\"\"\n",
    "\n",
    "cases = []\n",
    "deaths = []\n",
    "for country in countries:\n",
    "    info = dt_info[country]\n",
    "    df = countries[country]\n",
    "\n",
    "    # filter out cases and deaths\n",
    "\n",
    "    # parse date\n",
    "    df[info['date']] = pd.to_datetime(df[info['date']])\n",
    "    # set index\n",
    "    df = df.set_index(info['date'])\n",
    "\n",
    "    # sort by date\n",
    "    df.sort_index(inplace=True)\n",
    "\n",
    "    # get rid of NaN values\n",
    "    df = df.fillna(0)\n",
    "    # get rid of dashes\n",
    "    df = df.replace('-', '')\n",
    "\n",
    "    \n",
    "    # filter out cases\n",
    "    dfc = df.loc[df[info['var']] == info['case']].copy(deep=True)\n",
    "    # filter out deaths\n",
    "    dfd = df.loc[df[info['var']].isin(info['deaths'])].copy(deep=True)\n",
    "    \n",
    "    # delete non-numerics\n",
    "    for column in info['exclude']:\n",
    "        del dfc[column]\n",
    "        del dfd[column]\n",
    "        \n",
    "    # convert all values to numeric\n",
    "    for column in list(dfc):\n",
    "        dfc[column] = pd.to_numeric(dfc[column])\n",
    "        dfd[column] = pd.to_numeric(dfd[column])\n",
    "        \n",
    "    # collapse regions\n",
    "    dfc[country] = dfc[list(dfc)].sum(axis=1)\n",
    "    dfc = dfc[country]\n",
    "    dfd[country] = dfd[list(dfd)].sum(axis=1)\n",
    "    dfd = dfd[country]\n",
    "    \n",
    "    # exclude 4th to 9th december in liberia (wrong data, total instead of new cases)\n",
    "    if country == 'liberia':\n",
    "        dfc.loc['2014-12-04':'2014-12-09'] = 0\n",
    "    # create daily average per month\n",
    "    dfc = dfc.groupby(pd.TimeGrouper(freq='M')).mean()\n",
    "    cases.append(dfc)\n",
    "    dfd = dfd.groupby(pd.TimeGrouper(freq='M')).mean()\n",
    "    deaths.append(dfd)\n",
    "    \n",
    "\n",
    "#header_c = pd.MultiIndex.from_product(\n",
    "#    [list(countries), ['cases', 'deaths']\n",
    "#)\n",
    "\n",
    "dfc = pd.concat(cases, axis=1)\n",
    "dfd = pd.concat(deaths, axis=1)\n",
    "pd.concat([dfc, dfd], axis=1)"
   ]
  },
  {
   "cell_type": "markdown",
   "metadata": {},
   "source": [
    "## Task 2. RNA Sequences\n",
    "\n",
    "In the `DATA_FOLDER/microbiome` subdirectory, there are 9 spreadsheets of microbiome data that was acquired from high-throughput RNA sequencing procedures, along with a 10<sup>th</sup> file that describes the content of each. \n",
    "\n",
    "Use pandas to import the first 9 spreadsheets into a single `DataFrame`.\n",
    "Then, add the metadata information from the 10<sup>th</sup> spreadsheet as columns in the combined `DataFrame`.\n",
    "Make sure that the final `DataFrame` has a unique index and all the `NaN` values have been replaced by the tag `unknown`."
   ]
  },
  {
   "cell_type": "code",
   "execution_count": 9,
   "metadata": {},
   "outputs": [
    {
     "data": {
      "text/html": [
       "<div>\n",
       "<style>\n",
       "    .dataframe thead tr:only-child th {\n",
       "        text-align: right;\n",
       "    }\n",
       "\n",
       "    .dataframe thead th {\n",
       "        text-align: left;\n",
       "    }\n",
       "\n",
       "    .dataframe tbody tr th {\n",
       "        vertical-align: top;\n",
       "    }\n",
       "</style>\n",
       "<table border=\"1\" class=\"dataframe\">\n",
       "  <thead>\n",
       "    <tr style=\"text-align: right;\">\n",
       "      <th></th>\n",
       "      <th>Name</th>\n",
       "      <th>Occurrence</th>\n",
       "      <th>File</th>\n",
       "      <th>Group</th>\n",
       "      <th>Sample origin</th>\n",
       "    </tr>\n",
       "  </thead>\n",
       "  <tbody>\n",
       "    <tr>\n",
       "      <th>0</th>\n",
       "      <td>Archaea \"Crenarchaeota\" Thermoprotei Desulfuro...</td>\n",
       "      <td>7</td>\n",
       "      <td>MID6.xls</td>\n",
       "      <td>NEC 1</td>\n",
       "      <td>stool</td>\n",
       "    </tr>\n",
       "    <tr>\n",
       "      <th>1</th>\n",
       "      <td>Archaea \"Crenarchaeota\" Thermoprotei Desulfuro...</td>\n",
       "      <td>1</td>\n",
       "      <td>MID6.xls</td>\n",
       "      <td>NEC 1</td>\n",
       "      <td>stool</td>\n",
       "    </tr>\n",
       "    <tr>\n",
       "      <th>2</th>\n",
       "      <td>Archaea \"Crenarchaeota\" Thermoprotei Desulfuro...</td>\n",
       "      <td>1</td>\n",
       "      <td>MID6.xls</td>\n",
       "      <td>NEC 1</td>\n",
       "      <td>stool</td>\n",
       "    </tr>\n",
       "    <tr>\n",
       "      <th>3</th>\n",
       "      <td>Archaea \"Crenarchaeota\" Thermoprotei Desulfuro...</td>\n",
       "      <td>2</td>\n",
       "      <td>MID6.xls</td>\n",
       "      <td>NEC 1</td>\n",
       "      <td>stool</td>\n",
       "    </tr>\n",
       "    <tr>\n",
       "      <th>4</th>\n",
       "      <td>Archaea \"Crenarchaeota\" Thermoprotei Sulfoloba...</td>\n",
       "      <td>5</td>\n",
       "      <td>MID6.xls</td>\n",
       "      <td>NEC 1</td>\n",
       "      <td>stool</td>\n",
       "    </tr>\n",
       "  </tbody>\n",
       "</table>\n",
       "</div>"
      ],
      "text/plain": [
       "                                                Name  Occurrence      File  \\\n",
       "0  Archaea \"Crenarchaeota\" Thermoprotei Desulfuro...           7  MID6.xls   \n",
       "1  Archaea \"Crenarchaeota\" Thermoprotei Desulfuro...           1  MID6.xls   \n",
       "2  Archaea \"Crenarchaeota\" Thermoprotei Desulfuro...           1  MID6.xls   \n",
       "3  Archaea \"Crenarchaeota\" Thermoprotei Desulfuro...           2  MID6.xls   \n",
       "4  Archaea \"Crenarchaeota\" Thermoprotei Sulfoloba...           5  MID6.xls   \n",
       "\n",
       "   Group Sample origin  \n",
       "0  NEC 1         stool  \n",
       "1  NEC 1         stool  \n",
       "2  NEC 1         stool  \n",
       "3  NEC 1         stool  \n",
       "4  NEC 1         stool  "
      ]
     },
     "execution_count": 9,
     "metadata": {},
     "output_type": "execute_result"
    }
   ],
   "source": [
    "metadata = pd.read_excel(\"microbiome/metadata.xls\", header=0, index_col = \"BARCODE\")\n",
    "metadata.columns = ['Group', 'Sample origin']\n",
    "metadata['Sample origin'] = metadata['Sample origin'].fillna(\"unknown\")\n",
    "\n",
    "microbiome = read_excels(\"microbiome\", regex=\"MID*.xls\",has_header=False)\n",
    "microbiome.columns = ['Name', 'Occurrence', 'File']\n",
    "microbiome['Group'] = [metadata.loc[m[2].split(\".\")[0]]['Group'] for m in microbiome.values]\n",
    "microbiome['Sample origin'] = [metadata.loc[m[2].split(\".\")[0]]['Sample origin'] for m in microbiome.values]\n",
    "microbiome.index = range(0, microbiome.shape[0])\n",
    "\n",
    "microbiome.head()"
   ]
  },
  {
   "cell_type": "markdown",
   "metadata": {},
   "source": [
    "## Task 3. Class War in Titanic\n",
    "\n",
    "Use pandas to import the data file `Data/titanic.xls`. It contains data on all the passengers that travelled on the Titanic."
   ]
  },
  {
   "cell_type": "code",
   "execution_count": null,
   "metadata": {},
   "outputs": [],
   "source": [
    "from IPython.core.display import HTML\n",
    "HTML(filename=DATA_FOLDER+'/titanic.html')"
   ]
  },
  {
   "cell_type": "markdown",
   "metadata": {},
   "source": [
    "For each of the following questions state clearly your assumptions and discuss your findings:\n",
    "1. Describe the *type* and the *value range* of each attribute. Indicate and transform the attributes that can be `Categorical`. \n",
    "2. Plot histograms for the *travel class*, *embarkation port*, *sex* and *age* attributes. For the latter one, use *discrete decade intervals*. \n",
    "3. Calculate the proportion of passengers by *cabin floor*. Present your results in a *pie chart*.\n",
    "4. For each *travel class*, calculate the proportion of the passengers that survived. Present your results in *pie charts*.\n",
    "5. Calculate the proportion of the passengers that survived by *travel class* and *sex*. Present your results in *a single histogram*.\n",
    "6. Create 2 equally populated *age categories* and calculate survival proportions by *age category*, *travel class* and *sex*. Present your results in a `DataFrame` with unique index."
   ]
  },
  {
   "cell_type": "code",
   "execution_count": null,
   "metadata": {
    "collapsed": true
   },
   "outputs": [],
   "source": [
    "# Write your answer here"
   ]
  }
 ],
 "metadata": {
  "kernelspec": {
   "display_name": "Python [conda root]",
   "language": "python",
   "name": "conda-root-py"
  },
  "language_info": {
   "codemirror_mode": {
    "name": "ipython",
    "version": 3
   },
   "file_extension": ".py",
   "mimetype": "text/x-python",
   "name": "python",
   "nbconvert_exporter": "python",
   "pygments_lexer": "ipython3",
   "version": "3.5.3"
  }
 },
 "nbformat": 4,
 "nbformat_minor": 2
}
